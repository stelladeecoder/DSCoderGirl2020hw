{
 "cells": [
  {
   "cell_type": "markdown",
   "metadata": {},
   "source": [
    "### Homework 3 Numpy Arrays\n",
    "\n",
    "1. Open `cars.csv` in jupyter and look at the data. (Double click `cars.csv` to open in a new tab).\n",
    "2. We are converting each **column** into an numpy array.\n",
    "3. Notice we have text, integer and float data. \n",
    "4. Take care not to overwrite your starter code."
   ]
  },
  {
   "cell_type": "code",
   "execution_count": 1,
   "metadata": {},
   "outputs": [],
   "source": [
    "#Starter code. Do NOT modify this cell\n",
    "import pandas as pd\n",
    "import numpy as np\n",
    "\n",
    "# Read in dataset\n",
    "df = pd.read_csv('cars.csv',delimiter=';')\n",
    "\n",
    "# Convert each column to an np.array\n",
    "car = df.Car.to_numpy()\n",
    "mpg = df.MPG.to_numpy()\n",
    "cylinders = df.Cylinders.to_numpy()\n",
    "displacement = df.Displacement.to_numpy()\n",
    "horsepower = df.Horsepower.to_numpy()\n",
    "weight = df.Weight.to_numpy()\n",
    "acceleration = df.Acceleration.to_numpy()\n",
    "model = df.Model.to_numpy()\n",
    "origin = df.Origin.to_numpy()\n",
    "\n",
    "# create an array of headers\n",
    "headers = np.array(['Car', 'MPG', 'Cylinders', 'Displacement', 'Horsepower', 'Weight','Acceleration', 'Model', 'Origin'])\n"
   ]
  },
  {
   "cell_type": "code",
   "execution_count": 1,
   "metadata": {},
   "outputs": [
    {
     "name": "stdout",
     "output_type": "stream",
     "text": [
      "Requirement already satisfied: numpy in /Library/Frameworks/Python.framework/Versions/3.8/lib/python3.8/site-packages (1.19.1)\n"
     ]
    }
   ],
   "source": [
    "#import sys\n",
    "#!{sys.executable} -m pip install numpy\n"
   ]
  },
  {
   "cell_type": "markdown",
   "metadata": {},
   "source": [
    "1. How can you get help on `np.array`?\n",
    "\n",
    "Call `dir()` on `np.array`. \n",
    "\n",
    "Call `dir()` on `car`.\n",
    "\n",
    "Note the difference. `car` has methods and attributes we can use."
   ]
  },
  {
   "cell_type": "code",
   "execution_count": 13,
   "metadata": {},
   "outputs": [
    {
     "output_type": "execute_result",
     "data": {
      "text/plain": "['__call__',\n '__class__',\n '__delattr__',\n '__dir__',\n '__doc__',\n '__eq__',\n '__format__',\n '__ge__',\n '__getattribute__',\n '__gt__',\n '__hash__',\n '__init__',\n '__init_subclass__',\n '__le__',\n '__lt__',\n '__module__',\n '__name__',\n '__ne__',\n '__new__',\n '__qualname__',\n '__reduce__',\n '__reduce_ex__',\n '__repr__',\n '__self__',\n '__setattr__',\n '__sizeof__',\n '__str__',\n '__subclasshook__',\n '__text_signature__']"
     },
     "metadata": {},
     "execution_count": 13
    }
   ],
   "source": [
    "dir(np.array)"
   ]
  },
  {
   "cell_type": "code",
   "execution_count": 14,
   "metadata": {},
   "outputs": [
    {
     "output_type": "execute_result",
     "data": {
      "text/plain": "['T',\n '__abs__',\n '__add__',\n '__and__',\n '__array__',\n '__array_finalize__',\n '__array_function__',\n '__array_interface__',\n '__array_prepare__',\n '__array_priority__',\n '__array_struct__',\n '__array_ufunc__',\n '__array_wrap__',\n '__bool__',\n '__class__',\n '__complex__',\n '__contains__',\n '__copy__',\n '__deepcopy__',\n '__delattr__',\n '__delitem__',\n '__dir__',\n '__divmod__',\n '__doc__',\n '__eq__',\n '__float__',\n '__floordiv__',\n '__format__',\n '__ge__',\n '__getattribute__',\n '__getitem__',\n '__gt__',\n '__hash__',\n '__iadd__',\n '__iand__',\n '__ifloordiv__',\n '__ilshift__',\n '__imatmul__',\n '__imod__',\n '__imul__',\n '__index__',\n '__init__',\n '__init_subclass__',\n '__int__',\n '__invert__',\n '__ior__',\n '__ipow__',\n '__irshift__',\n '__isub__',\n '__iter__',\n '__itruediv__',\n '__ixor__',\n '__le__',\n '__len__',\n '__lshift__',\n '__lt__',\n '__matmul__',\n '__mod__',\n '__mul__',\n '__ne__',\n '__neg__',\n '__new__',\n '__or__',\n '__pos__',\n '__pow__',\n '__radd__',\n '__rand__',\n '__rdivmod__',\n '__reduce__',\n '__reduce_ex__',\n '__repr__',\n '__rfloordiv__',\n '__rlshift__',\n '__rmatmul__',\n '__rmod__',\n '__rmul__',\n '__ror__',\n '__rpow__',\n '__rrshift__',\n '__rshift__',\n '__rsub__',\n '__rtruediv__',\n '__rxor__',\n '__setattr__',\n '__setitem__',\n '__setstate__',\n '__sizeof__',\n '__str__',\n '__sub__',\n '__subclasshook__',\n '__truediv__',\n '__xor__',\n 'all',\n 'any',\n 'argmax',\n 'argmin',\n 'argpartition',\n 'argsort',\n 'astype',\n 'base',\n 'byteswap',\n 'choose',\n 'clip',\n 'compress',\n 'conj',\n 'conjugate',\n 'copy',\n 'ctypes',\n 'cumprod',\n 'cumsum',\n 'data',\n 'diagonal',\n 'dot',\n 'dtype',\n 'dump',\n 'dumps',\n 'fill',\n 'flags',\n 'flat',\n 'flatten',\n 'getfield',\n 'imag',\n 'item',\n 'itemset',\n 'itemsize',\n 'max',\n 'mean',\n 'min',\n 'nbytes',\n 'ndim',\n 'newbyteorder',\n 'nonzero',\n 'partition',\n 'prod',\n 'ptp',\n 'put',\n 'ravel',\n 'real',\n 'repeat',\n 'reshape',\n 'resize',\n 'round',\n 'searchsorted',\n 'setfield',\n 'setflags',\n 'shape',\n 'size',\n 'sort',\n 'squeeze',\n 'std',\n 'strides',\n 'sum',\n 'swapaxes',\n 'take',\n 'tobytes',\n 'tofile',\n 'tolist',\n 'tostring',\n 'trace',\n 'transpose',\n 'var',\n 'view']"
     },
     "metadata": {},
     "execution_count": 14
    }
   ],
   "source": [
    "dir(car)"
   ]
  },
  {
   "cell_type": "markdown",
   "metadata": {},
   "source": [
    "2. What are the numpy datatypes for the `car`,`mpg`, `horsepower` and `origin` arrays? (Hint: Not `type(car)` and use `print()` to print the numpy type.)"
   ]
  },
  {
   "cell_type": "code",
   "execution_count": 4,
   "metadata": {
    "tags": []
   },
   "outputs": [
    {
     "output_type": "stream",
     "name": "stdout",
     "text": "object\nfloat64\nfloat64\n"
    }
   ],
   "source": [
    "print(car.dtype)\n",
    "print(mpg.dtype)\n",
    "print(horsepower.dtype)"
   ]
  },
  {
   "cell_type": "markdown",
   "metadata": {},
   "source": [
    "3. `numpy` is often imported as `np`. What is this action called? Why might you do this? "
   ]
  },
  {
   "cell_type": "code",
   "execution_count": null,
   "metadata": {},
   "outputs": [],
   "source": [
    "#If you use import numpy , all sub-modules and functions in the numpy module can only be accesses in the numpy."
   ]
  },
  {
   "cell_type": "markdown",
   "metadata": {},
   "source": [
    "4. Each of the arrays (cars, mpg, cylinders, etc..) has how many dimensions? Show how to find this using code. "
   ]
  },
  {
   "cell_type": "code",
   "execution_count": 15,
   "metadata": {
    "tags": []
   },
   "outputs": [
    {
     "output_type": "stream",
     "name": "stdout",
     "text": "(406,)\n(406,)\n(406,)\n"
    }
   ],
   "source": [
    "print(car.shape)\n",
    "print(mpg.shape)\n",
    "print(cylinders.shape)\n",
    "# 406 rows by 1 column"
   ]
  },
  {
   "cell_type": "markdown",
   "metadata": {},
   "source": [
    "5. Show how to:\n",
    "\n",
    "- multiply the `mpg` array by 12.\n",
    "- divide the `mpg` array by 3.\n",
    "- raise the `mpg` array to the power of 4.\n",
    "- take the square root of the `mpg` array."
   ]
  },
  {
   "cell_type": "code",
   "execution_count": 20,
   "metadata": {
    "tags": []
   },
   "outputs": [
    {
     "output_type": "execute_result",
     "data": {
      "text/plain": "array([4.24264069, 3.87298335, 4.24264069, 4.        , 4.12310563,\n       3.87298335, 3.74165739, 3.74165739, 3.74165739, 3.87298335,\n       0.        , 0.        , 0.        , 0.        , 0.        ,\n       3.87298335, 3.74165739, 0.        , 3.87298335, 3.74165739,\n       4.89897949, 4.69041576, 4.24264069, 4.58257569, 5.19615242,\n       5.09901951, 5.        , 4.89897949, 5.        , 5.09901951,\n       4.58257569, 3.16227766, 3.16227766, 3.31662479, 3.        ,\n       5.19615242, 5.29150262, 5.        , 5.        , 0.        ,\n       4.35889894, 4.        , 4.12310563, 4.35889894, 4.24264069,\n       3.74165739, 3.74165739, 3.74165739, 3.74165739, 3.46410162,\n       3.60555128, 3.60555128, 4.24264069, 4.69041576, 4.35889894,\n       4.24264069, 4.79583152, 5.29150262, 5.47722558, 5.47722558,\n       5.56776436, 5.91607978, 5.19615242, 5.09901951, 4.89897949,\n       5.        , 4.79583152, 4.47213595, 4.58257569, 3.60555128,\n       3.74165739, 3.87298335, 3.74165739, 4.12310563, 3.31662479,\n       3.60555128, 3.46410162, 3.60555128, 4.35889894, 3.87298335,\n       3.60555128, 3.60555128, 3.74165739, 4.24264069, 4.69041576,\n       4.58257569, 5.09901951, 4.69041576, 5.29150262, 4.79583152,\n       5.29150262, 5.19615242, 3.60555128, 3.74165739, 3.60555128,\n       3.74165739, 3.87298335, 3.46410162, 3.60555128, 3.60555128,\n       3.74165739, 3.60555128, 3.46410162, 3.60555128, 4.24264069,\n       4.        , 4.24264069, 4.24264069, 4.79583152, 5.09901951,\n       3.31662479, 3.46410162, 3.60555128, 3.46410162, 4.24264069,\n       4.47213595, 4.58257569, 4.69041576, 4.24264069, 4.35889894,\n       4.58257569, 5.09901951, 3.87298335, 4.        , 5.38516481,\n       4.89897949, 4.47213595, 4.35889894, 3.87298335, 4.89897949,\n       4.47213595, 3.31662479, 4.47213595, 4.58257569, 4.35889894,\n       3.87298335, 5.56776436, 5.09901951, 5.65685425, 5.        ,\n       4.        , 4.        , 4.24264069, 4.        , 3.60555128,\n       3.74165739, 3.74165739, 3.74165739, 5.38516481, 5.09901951,\n       5.09901951, 5.56776436, 5.65685425, 5.29150262, 4.89897949,\n       5.09901951, 4.89897949, 5.09901951, 5.56776436, 4.35889894,\n       4.24264069, 3.87298335, 3.87298335, 4.        , 3.87298335,\n       4.        , 3.74165739, 4.12310563, 4.        , 3.87298335,\n       4.24264069, 4.58257569, 4.47213595, 3.60555128, 5.38516481,\n       4.79583152, 4.47213595, 4.79583152, 4.89897949, 5.        ,\n       4.89897949, 4.24264069, 5.38516481, 4.35889894, 4.79583152,\n       4.79583152, 4.69041576, 5.        , 5.74456265, 5.29150262,\n       5.        , 5.        , 5.09901951, 5.19615242, 4.18330013,\n       4.        , 3.93700394, 3.80788655, 4.69041576, 4.69041576,\n       4.89897949, 4.74341649, 5.38516481, 4.94974747, 5.38516481,\n       5.74456265, 4.47213595, 4.24264069, 4.30116263, 4.18330013,\n       5.43139025, 5.65685425, 5.29150262, 5.14781507, 4.47213595,\n       3.60555128, 4.35889894, 4.35889894, 4.0620192 , 4.0620192 ,\n       3.60555128, 3.60555128, 3.60555128, 5.61248608, 5.47722558,\n       6.        , 5.04975247, 5.78791845, 4.18330013, 4.12310563,\n       3.93700394, 3.87298335, 4.18330013, 4.52769257, 4.35889894,\n       4.30116263, 4.        , 3.93700394, 3.93700394, 4.        ,\n       5.38516481, 4.94974747, 5.09901951, 5.04975247, 5.52268051,\n       5.78791845, 5.47722558, 5.52268051, 4.69041576, 4.63680925,\n       4.63680925, 6.56505902, 6.00832755, 5.72712843, 6.27694193,\n       6.00832755, 4.4609416 , 4.40454311, 4.49444101, 4.38178046,\n       4.52769257, 4.49444101, 5.00999002, 4.52769257, 4.40454311,\n       4.53872229, 4.5607017 , 4.31277173, 4.25440948, 4.38178046,\n       4.20713679, 4.25440948, 4.18330013, 5.47722558, 5.24404424,\n       5.21536192, 5.55877684, 4.59347363, 4.81663783, 4.87852437,\n       4.88876262, 4.50555213, 4.12310563, 4.64758002, 4.02492236,\n       5.61248608, 5.43139025, 4.63680925, 4.44971909, 4.72228758,\n       4.49444101, 4.53872229, 4.12310563, 4.19523539, 4.0620192 ,\n       4.2661458 , 4.11096096, 3.93700394, 4.38178046, 4.30116263,\n       5.6480085 , 5.83952053, 5.9749477 , 5.23450093, 5.03984127,\n       4.79583152, 5.21536192, 4.88876262, 5.84807661, 5.87367006,\n       5.63914887, 6.10737259, 5.32916504, 5.36656315, 5.17687164,\n       5.78791845, 6.44204936, 6.17251974, 5.66568619, 6.09918027,\n       5.29150262, 5.13809303, 4.92950302, 4.37035468, 5.85662019,\n       5.45893763, 5.59464029, 6.08276253, 5.67450438, 6.82641927,\n       5.28204506, 6.38748777, 6.65582452, 6.58786764, 6.03324125,\n       5.47722558, 6.67832314, 6.39531078, 5.81377674, 5.45893763,\n       5.71839138, 4.86826458, 5.91607978, 4.85798312, 5.69209979,\n       5.21536192, 5.15751878, 5.07937004, 4.84767986, 5.47722558,\n       6.25299928, 6.244998  , 5.9245253 , 5.6833089 , 6.08276253,\n       6.14003257, 5.83952053, 5.89067059, 5.86515132, 5.46808925,\n       5.74456265, 5.87367006, 5.80517011, 5.69209979, 5.73585216,\n       5.62138773, 5.30094331, 0.        , 5.54075807, 5.03984127,\n       4.91934955, 4.73286383, 5.15751878, 4.49444101, 4.19523539,\n       5.29150262, 5.19615242, 5.83095189, 5.56776436, 5.38516481,\n       5.19615242, 4.89897949, 4.79583152, 6.        , 6.08276253,\n       5.56776436, 6.164414  , 6.        , 6.        , 6.        ,\n       5.83095189, 6.164414  , 5.65685425, 6.164414  , 5.        ,\n       6.164414  , 5.09901951, 4.69041576, 5.65685425, 6.        ,\n       5.19615242, 5.19615242, 6.63324958, 5.65685425, 5.29150262,\n       5.56776436])"
     },
     "metadata": {},
     "execution_count": 20
    }
   ],
   "source": [
    "np.multiply(mpg, 12)\n",
    "np.divide(mpg, 3)\n",
    "mpg ** 4\n",
    "np.sqrt(mpg)"
   ]
  },
  {
   "cell_type": "markdown",
   "metadata": {},
   "source": [
    "6. What is the ___ of `horsepower`?\n",
    "- sum\n",
    "- min\n",
    "- max\n",
    "- median\n",
    "- Optional: mode (May need to google help)"
   ]
  },
  {
   "cell_type": "code",
   "execution_count": 26,
   "metadata": {},
   "outputs": [
    {
     "output_type": "execute_result",
     "data": {
      "text/plain": "93.5"
     },
     "metadata": {},
     "execution_count": 26
    }
   ],
   "source": [
    "horsepower.sum() # 42033.0\n",
    "horsepower.min() # 0.0\n",
    "horsepower.max() # 230.0\n",
    "np.median(horsepower) # 93.5\n",
    "\n"
   ]
  },
  {
   "cell_type": "markdown",
   "metadata": {},
   "source": [
    "7. Select a subset of `acceleration`. \n",
    "\n",
    "- Select only the first 5 elements.\n",
    "- Select every other element (new selection)."
   ]
  },
  {
   "cell_type": "code",
   "execution_count": 28,
   "metadata": {},
   "outputs": [
    {
     "output_type": "execute_result",
     "data": {
      "text/plain": "array([12. , 11.5, 11. , 12. , 10.5])"
     },
     "metadata": {},
     "execution_count": 28
    }
   ],
   "source": [
    "acceleration[0:5] # array([12. , 11.5, 11. , 12. , 10.5])"
   ]
  },
  {
   "cell_type": "code",
   "execution_count": 29,
   "metadata": {},
   "outputs": [
    {
     "output_type": "execute_result",
     "data": {
      "text/plain": "array([12. , 11. , 10.5,  9. , 10. , 17.5, 11. , 11. ,  8. ,  9.5, 15. ,\n       15.5, 14.5, 17.5, 17.5, 15. , 15. , 18.5, 15.5, 19. , 13. , 15.5,\n       15.5, 11.5, 13. , 12. , 13.5, 15. , 14. , 19.5, 19. , 19. , 15.5,\n       23.5, 16.5, 12. , 13. , 11. , 13.5, 13.5, 14. , 14. , 18. , 18. ,\n       17. , 15. , 13. , 13. , 12.5, 12. , 14.5, 11. , 16.5, 16. , 16. ,\n       14. , 13. , 15. , 19.5, 13.5, 14. , 13. , 19.5, 14. , 11. , 13.5,\n       16.5, 16. , 19. , 21. , 17. , 16.5, 14.5, 16. , 16.5, 14.5, 19. ,\n       15.5, 15. , 16. , 16. , 19.5, 14. , 13.5, 18.5, 19. , 13.5, 16. ,\n       16. , 13.5, 17. , 14. , 15. , 14.5, 17.5, 16.9, 17.7, 13. , 13.9,\n       15.4, 17.6, 22.2, 14.2, 17.7, 16.2, 12.2, 16.4, 15.7, 21.9, 16.7,\n       12. , 14. , 14.8, 15.5, 12.5, 13.7, 16.4, 17.7, 11.1, 12.2, 14.5,\n       18.2, 17. , 16.4, 14.5, 13.5, 14.4, 18.6, 15.5, 12.8, 18.2, 15.4,\n       17.2, 16.7, 15.1, 13.4, 13.7, 14.2, 14.5, 16.7, 14.9, 13.6, 15.8,\n       16.6, 18.2, 18.2, 15.4, 13.2, 14.9, 15. , 14. , 14.4, 20.1, 24.8,\n       13.2, 19.2, 16. , 12.9, 14.7, 15.5, 16.5, 20.1, 15.8, 17.5, 15.2,\n       14.4, 21.7, 19.9, 13.8, 18. , 11.4, 15.1, 17. , 16.4, 12.6, 16.9,\n       16.1, 19.4, 16. , 16.2, 14.2, 14.4, 14.8, 20.4, 19.6, 13.8, 19. ,\n       16.6, 18.6, 16.2, 18. , 20.5, 18.2, 14.7, 14.5, 16.9, 15.7, 16.4,\n       14.5, 13.9, 17.3, 24.6, 18.6])"
     },
     "metadata": {},
     "execution_count": 29
    }
   ],
   "source": [
    "acceleration[::2]"
   ]
  },
  {
   "cell_type": "markdown",
   "metadata": {},
   "source": [
    "8. Show how to select the number `99` in the array below. "
   ]
  },
  {
   "cell_type": "code",
   "execution_count": 32,
   "metadata": {},
   "outputs": [
    {
     "output_type": "execute_result",
     "data": {
      "text/plain": "99"
     },
     "metadata": {},
     "execution_count": 32
    }
   ],
   "source": [
    "select_99 = np.array([[1,2,3],\n",
    "                      [4,5,99]])\n",
    "select_99[1,2]                     "
   ]
  },
  {
   "cell_type": "markdown",
   "metadata": {},
   "source": [
    "9. Select the last element in each subarray (do this with one operation.)"
   ]
  },
  {
   "cell_type": "code",
   "execution_count": 7,
   "metadata": {},
   "outputs": [],
   "source": [
    "select_more = np.array([[1,2,3],\n",
    "                      [4,5,6],\n",
    "                      [7,8,9]])\n",
    "# returns array([3, 6, 9])\n"
   ]
  },
  {
   "cell_type": "code",
   "execution_count": 33,
   "metadata": {
    "tags": []
   },
   "outputs": [
    {
     "output_type": "execute_result",
     "data": {
      "text/plain": "array([3, 6, 9])"
     },
     "metadata": {},
     "execution_count": 33
    }
   ],
   "source": [
    "select_more[: ,2]"
   ]
  },
  {
   "cell_type": "markdown",
   "metadata": {},
   "source": [
    "10. Use the built-in `np.lookfor()` function to search for `'log'`.\n",
    "\n",
    "Use the function you find and apply it to `mpg`."
   ]
  },
  {
   "cell_type": "code",
   "execution_count": 35,
   "metadata": {
    "tags": []
   },
   "outputs": [
    {
     "output_type": "stream",
     "name": "stdout",
     "text": "Search results for 'log'\n------------------------\nnumpy.log\n    Natural logarithm, element-wise.\nnumpy.log2\n    Base-2 logarithm of `x`.\nnumpy.log10\n    Return the base 10 logarithm of the input array, element-wise.\nnumpy.log1p\n    Return the natural logarithm of one plus the input array, element-wise.\nnumpy.logspace\n    Return numbers spaced evenly on a log scale.\nnumpy.logaddexp\n    Logarithm of the sum of exponentiations of the inputs.\nnumpy.logaddexp2\n    Logarithm of the sum of exponentiations of the inputs in base-2.\nnumpy.logical_or\n    Compute the truth value of x1 OR x2 element-wise.\nnumpy.logical_and\n    Compute the truth value of x1 AND x2 element-wise.\nnumpy.logical_not\n    Compute the truth value of NOT x element-wise.\nnumpy.logical_xor\n    Compute the truth value of x1 XOR x2, element-wise.\nnumpy.ma.log\n    Natural logarithm, element-wise.\nnumpy.ma.log2\n    Base-2 logarithm of `x`.\nnumpy.ma.log10\n    Return the base 10 logarithm of the input array, element-wise.\nnumpy.recarray\n    Construct an ndarray that allows field access using attributes.\nnumpy.geomspace\n    Return numbers spaced evenly on a log scale (a geometric progression).\nnumpy.seterrcall\n    Set the floating-point error callback function or log object.\nnumpy.ma.logical_or\n    Compute the truth value of x1 OR x2 element-wise.\nnumpy.linalg.slogdet\n    Compute the sign and (natural) logarithm of the determinant of an array.\nnumpy.ma.logical_and\n    Compute the truth value of x1 AND x2 element-wise.\nnumpy.ma.logical_not\n    Compute the truth value of NOT x element-wise.\nnumpy.ma.logical_xor\n    Compute the truth value of x1 XOR x2, element-wise.\nnumpy.ma.mask_or\n    Combine two masks with the ``logical_or`` operator.\nnumpy.distutils.log.good\n    If we log WARN messages, log this message as a 'nice' anti-warn\nnumpy.random.Generator.logistic\n    Draw samples from a logistic distribution.\nnumpy.distutils.log.Log.good\n    If we log WARN messages, log this message as a 'nice' anti-warn\nnumpy.random.Generator.lognormal\n    Draw samples from a log-normal distribution.\nnumpy.random.Generator.logseries\n    Draw samples from a logarithmic series distribution.\nnumpy.linalg._umath_linalg.slogdet\n    slogdet on the last two dimensions and broadcast on the rest.\nnumpy.random.RandomState.logistic\n    Draw samples from a logistic distribution.\nnumpy.random.RandomState.lognormal\n    Draw samples from a log-normal distribution.\nnumpy.random.RandomState.logseries\n    Draw samples from a logarithmic series distribution.\nnumpy.all\n    Test whether all array elements along a given axis evaluate to True.\nnumpy.any\n    Test whether any array element along a given axis evaluates to True.\nnumpy.exp\n    Calculate the exponential of all elements in the input array.\nnumpy.sort\n    Return a sorted copy of an array.\nnumpy.expm1\n    Calculate ``exp(x) - 1`` for all elements in the array.\nnumpy.isnan\n    Test element-wise for NaN and return result as a boolean array.\nnumpy.MachAr\n    Diagnosing machine parameters.\nnumpy.distutils.command.build.build\n    Abstract base class for defining command classes, the \"worker bees\"\nnumpy.distutils.command.sdist.sdist\n    Abstract base class for defining command classes, the \"worker bees\"\nnumpy.testing.suppress_warnings.record\n    Append a new recording filter or apply it if the state is entered.\nnumpy.geterr\n    Get the current way of handling floating-point errors.\nnumpy.kaiser\n    Return the Kaiser window.\nnumpy.seterr\n    Set how floating-point errors are handled.\nnumpy.hamming\n    Return the Hamming window.\nnumpy.hanning\n    Return the Hanning window.\nnumpy.bartlett\n    Return the Bartlett window.\nnumpy.blackman\n    Return the Blackman window.\nnumpy.distutils.command.config.config\n    Abstract base class for defining command classes, the \"worker bees\"\nnumpy.errstate\n    errstate(**kwargs)\nnumpy.isfinite\n    Test element-wise for finiteness (not infinity or not Not a Number).\nnumpy.linspace\n    Return evenly spaced numbers over a specified interval.\nnumpy.packbits\n    Packs the elements of a binary-valued array into bits in a uint8 array.\nnumpy.geterrobj\n    geterrobj()\nnumpy.seterrobj\n    seterrobj(errobj)\nnumpy.bitwise_or\n    Compute the bit-wise OR of two arrays element-wise.\nnumpy.distutils.command.install.install\n    Abstract base class for defining command classes, the \"worker bees\"\nnumpy.geterrcall\n    Return the current callback function used on floating-point errors.\nnumpy.bitwise_and\n    Compute the bit-wise AND of two arrays element-wise.\nnumpy.bitwise_not\n    Compute bit-wise inversion, or bit-wise NOT, element-wise.\nnumpy.bitwise_xor\n    Compute the bit-wise XOR of two arrays element-wise.\nnumpy.ma.exp\n    Calculate the exponential of all elements in the input array.\nnumpy.distutils.command.build_py.build_py\n    Abstract base class for defining command classes, the \"worker bees\"\nnumpy.distutils.command.egg_info.egg_info\n    Abstract base class for defining command classes, the \"worker bees\"\nnumpy.fft.fft2\n    Compute the 2-dimensional discrete Fourier Transform\nnumpy.fft.fftn\n    Compute the N-dimensional discrete Fourier Transform.\nnumpy.fft.hfft\n    Compute the FFT of a signal that has Hermitian symmetry, i.e., a real\nnumpy.fft.ifft2\n    Compute the 2-dimensional inverse discrete Fourier Transform.\nnumpy.fft.ifftn\n    Compute the N-dimensional inverse discrete Fourier Transform.\nnumpy.fft.ihfft\n    Compute the inverse FFT of a signal that has Hermitian symmetry.\nnumpy.distutils.command.bdist_rpm.bdist_rpm\n    Abstract base class for defining command classes, the \"worker bees\"\nnumpy.distutils.command.build_ext.build_ext\n    Abstract base class for defining command classes, the \"worker bees\"\nnumpy.distutils.command.build_src.build_src\n    Abstract base class for defining command classes, the \"worker bees\"\nnumpy.linalg.det\n    Compute the determinant of an array.\nnumpy.distutils.command.build_clib.build_clib\n    Abstract base class for defining command classes, the \"worker bees\"\nnumpy.matrix.any\n    Test whether any array element along a given axis evaluates to True.\nnumpy.ma.bitwise_or\n    Compute the bit-wise OR of two arrays element-wise.\nnumpy.histogram_bin_edges\n    Function to calculate only the edges of the bins used by the `histogram`\nnumpy.ma.bitwise_and\n    Compute the bit-wise AND of two arrays element-wise.\nnumpy.ma.bitwise_xor\n    Compute the bit-wise XOR of two arrays element-wise.\nnumpy.distutils.command.install_clib.install_clib\n    Abstract base class for defining command classes, the \"worker bees\"\nnumpy.distutils.command.install_data.install_data\n    Abstract base class for defining command classes, the \"worker bees\"\nnumpy.distutils.command.build_scripts.build_scripts\n    Abstract base class for defining command classes, the \"worker bees\"\nnumpy.distutils.fcompiler.FCompiler.add_link_object\n    Add 'object' to the list of object files (or analogues, such as\nnumpy.distutils.fcompiler.FCompiler.set_link_objects\n    Set the list of object files (or analogues) to be included in\nnumpy.random.RandomState\n    Container for the slow Mersenne Twister pseudo-random number generator.\nnumpy.random.SeedSequence\n    SeedSequence mixes sources of entropy in a reproducible way to set the\nnumpy.distutils.command.install_headers.install_headers\n    Abstract base class for defining command classes, the \"worker bees\"\nnumpy.distutils.command.egg_info.egg_info.write_file\n    Write `data` to `filename` (if not a dry run) after announcing it\nnumpy.testing.suppress_warnings\n    Context manager and decorator doing much the same as\nnumpy.distutils.command.bdist_rpm.bdist_rpm._format_changelog\n    Format the changelog correctly and convert it to a list of strings\nnumpy.random.Generator.wald\n    Draw samples from a Wald, or inverse Gaussian, distribution.\nnumpy.random.Generator.power\n    Draws samples in [0, 1] from a power distribution with positive\nnumpy.random.Generator.gumbel\n    Draw samples from a Gumbel distribution.\nnumpy.random.RandomState.wald\n    Draw samples from a Wald, or inverse Gaussian, distribution.\nnumpy.random.RandomState.power\n    Draws samples in [0, 1] from a power distribution with positive\nnumpy.random.Generator.vonmises\n    Draw samples from a von Mises distribution.\nnumpy.random.RandomState.gumbel\n    Draw samples from a Gumbel distribution.\nnumpy.distutils.numpy_distribution.NumpyDistribution.finalize_options\n    Set final values for all the options on the Distribution\nnumpy.random.RandomState.vonmises\n    Draw samples from a von Mises distribution.\nnumpy.core._multiarray_umath.packbits\n    Packs the elements of a binary-valued array into bits in a uint8 array.\nnumpy.random.Generator.exponential\n    Draw samples from an exponential distribution.\nnumpy.random.RandomState.exponential\n    Draw samples from an exponential distribution.\nnumpy.distutils.ccompiler.CCompiler_spawn\n    Execute a command in a sub-process.\nnumpy.random.Generator.multivariate_normal\n    Draw random samples from a multivariate normal distribution.\nnumpy.random.RandomState.multivariate_normal\n    Draw random samples from a multivariate normal distribution.\nnumpy.core._multiarray_umath.normalize_axis_index\n    Normalizes an axis index, `axis`, such that is a valid positive index into\nnumpy.distutils.ccompiler.CCompiler_show_customization\n    Print the compiler customizations to stdout."
    },
    {
     "output_type": "execute_result",
     "data": {
      "text/plain": "array([2.89037176, 2.7080502 , 2.89037176, 2.77258872, 2.83321334,\n       2.7080502 , 2.63905733, 2.63905733, 2.63905733, 2.7080502 ,\n             -inf,       -inf,       -inf,       -inf,       -inf,\n       2.7080502 , 2.63905733,       -inf, 2.7080502 , 2.63905733,\n       3.17805383, 3.09104245, 2.89037176, 3.04452244, 3.29583687,\n       3.25809654, 3.21887582, 3.17805383, 3.21887582, 3.25809654,\n       3.04452244, 2.30258509, 2.30258509, 2.39789527, 2.19722458,\n       3.29583687, 3.33220451, 3.21887582, 3.21887582,       -inf,\n       2.94443898, 2.77258872, 2.83321334, 2.94443898, 2.89037176,\n       2.63905733, 2.63905733, 2.63905733, 2.63905733, 2.48490665,\n       2.56494936, 2.56494936, 2.89037176, 3.09104245, 2.94443898,\n       2.89037176, 3.13549422, 3.33220451, 3.40119738, 3.40119738,\n       3.4339872 , 3.55534806, 3.29583687, 3.25809654, 3.17805383,\n       3.21887582, 3.13549422, 2.99573227, 3.04452244, 2.56494936,\n       2.63905733, 2.7080502 , 2.63905733, 2.83321334, 2.39789527,\n       2.56494936, 2.48490665, 2.56494936, 2.94443898, 2.7080502 ,\n       2.56494936, 2.56494936, 2.63905733, 2.89037176, 3.09104245,\n       3.04452244, 3.25809654, 3.09104245, 3.33220451, 3.13549422,\n       3.33220451, 3.29583687, 2.56494936, 2.63905733, 2.56494936,\n       2.63905733, 2.7080502 , 2.48490665, 2.56494936, 2.56494936,\n       2.63905733, 2.56494936, 2.48490665, 2.56494936, 2.89037176,\n       2.77258872, 2.89037176, 2.89037176, 3.13549422, 3.25809654,\n       2.39789527, 2.48490665, 2.56494936, 2.48490665, 2.89037176,\n       2.99573227, 3.04452244, 3.09104245, 2.89037176, 2.94443898,\n       3.04452244, 3.25809654, 2.7080502 , 2.77258872, 3.36729583,\n       3.17805383, 2.99573227, 2.94443898, 2.7080502 , 3.17805383,\n       2.99573227, 2.39789527, 2.99573227, 3.04452244, 2.94443898,\n       2.7080502 , 3.4339872 , 3.25809654, 3.4657359 , 3.21887582,\n       2.77258872, 2.77258872, 2.89037176, 2.77258872, 2.56494936,\n       2.63905733, 2.63905733, 2.63905733, 3.36729583, 3.25809654,\n       3.25809654, 3.4339872 , 3.4657359 , 3.33220451, 3.17805383,\n       3.25809654, 3.17805383, 3.25809654, 3.4339872 , 2.94443898,\n       2.89037176, 2.7080502 , 2.7080502 , 2.77258872, 2.7080502 ,\n       2.77258872, 2.63905733, 2.83321334, 2.77258872, 2.7080502 ,\n       2.89037176, 3.04452244, 2.99573227, 2.56494936, 3.36729583,\n       3.13549422, 2.99573227, 3.13549422, 3.17805383, 3.21887582,\n       3.17805383, 2.89037176, 3.36729583, 2.94443898, 3.13549422,\n       3.13549422, 3.09104245, 3.21887582, 3.49650756, 3.33220451,\n       3.21887582, 3.21887582, 3.25809654, 3.29583687, 2.86220088,\n       2.77258872, 2.74084002, 2.67414865, 3.09104245, 3.09104245,\n       3.17805383, 3.11351531, 3.36729583, 3.19867312, 3.36729583,\n       3.49650756, 2.99573227, 2.89037176, 2.91777073, 2.86220088,\n       3.38439026, 3.4657359 , 3.33220451, 3.27714473, 2.99573227,\n       2.56494936, 2.94443898, 2.94443898, 2.80336038, 2.80336038,\n       2.56494936, 2.56494936, 2.56494936, 3.44998755, 3.40119738,\n       3.58351894, 3.23867845, 3.51154544, 2.86220088, 2.83321334,\n       2.74084002, 2.7080502 , 2.86220088, 3.02042489, 2.94443898,\n       2.91777073, 2.77258872, 2.74084002, 2.74084002, 2.77258872,\n       3.36729583, 3.19867312, 3.25809654, 3.23867845, 3.41772668,\n       3.51154544, 3.40119738, 3.41772668, 3.09104245, 3.06805294,\n       3.06805294, 3.763523  , 3.58629287, 3.49042852, 3.67376582,\n       3.58629287, 2.99071973, 2.96527307, 3.0056826 , 2.95491028,\n       3.02042489, 3.0056826 , 3.22286785, 3.02042489, 2.96527307,\n       3.02529108, 3.03495299, 2.92316158, 2.89591194, 2.95491028,\n       2.87356464, 2.89591194, 2.86220088, 3.40119738, 3.314186  ,\n       3.30321697, 3.43075618, 3.04927304, 3.14415228, 3.16968558,\n       3.17387846, 3.01062089, 2.83321334, 3.07269331, 2.78501124,\n       3.44998755, 3.38439026, 3.06805294, 2.98568194, 3.10458668,\n       3.0056826 , 3.02529108, 2.83321334, 2.8678989 , 2.80336038,\n       2.90142159, 2.82731362, 2.74084002, 2.95491028, 2.91777073,\n       3.46260601, 3.52929738, 3.57515069, 3.31054301, 3.23474917,\n       3.13549422, 3.30321697, 3.17387846, 3.53222564, 3.54095932,\n       3.45946629, 3.61899333, 3.34638915, 3.36037539, 3.28840189,\n       3.51154544, 3.72569343, 3.64021428, 3.46885603, 3.61630876,\n       3.33220451, 3.27336401, 3.19047635, 2.94968834, 3.53514535,\n       3.39450839, 3.4436181 , 3.61091791, 3.47196645, 3.84160054,\n       3.32862669, 3.70868208, 3.79098468, 3.77045944, 3.59456877,\n       3.40119738, 3.79773386, 3.71113006, 3.5204608 , 3.39450839,\n       3.48737508, 3.16547505, 3.55534806, 3.16124671, 3.47815842,\n       3.30321697, 3.28091122, 3.25037449, 3.15700042, 3.40119738,\n       3.66612247, 3.66356165, 3.55820113, 3.47506723, 3.61091791,\n       3.62966009, 3.52929738, 3.54673969, 3.53805656, 3.39785848,\n       3.49650756, 3.54095932, 3.51749784, 3.47815842, 3.49347266,\n       3.45315712, 3.33576958,       -inf, 3.42426265, 3.23474917,\n       3.18635263, 3.10906096, 3.28091122, 3.0056826 , 2.8678989 ,\n       3.33220451, 3.29583687, 3.52636052, 3.4339872 , 3.36729583,\n       3.29583687, 3.17805383, 3.13549422, 3.58351894, 3.61091791,\n       3.4339872 , 3.63758616, 3.58351894, 3.58351894, 3.58351894,\n       3.52636052, 3.63758616, 3.4657359 , 3.63758616, 3.21887582,\n       3.63758616, 3.25809654, 3.09104245, 3.4657359 , 3.58351894,\n       3.29583687, 3.29583687, 3.78418963, 3.4657359 , 3.33220451,\n       3.4339872 ])"
     },
     "metadata": {},
     "execution_count": 35
    }
   ],
   "source": [
    "np.lookfor('log')\n",
    "np.log(mpg)"
   ]
  },
  {
   "cell_type": "markdown",
   "metadata": {},
   "source": [
    "11. You your google skills to find the unique items in `origin`. (This may not have been covered in the readings.)"
   ]
  },
  {
   "cell_type": "code",
   "execution_count": 36,
   "metadata": {},
   "outputs": [
    {
     "output_type": "execute_result",
     "data": {
      "text/plain": "array(['Europe', 'Japan', 'US'], dtype=object)"
     },
     "metadata": {},
     "execution_count": 36
    }
   ],
   "source": [
    "np.unique(origin)"
   ]
  },
  {
   "cell_type": "markdown",
   "metadata": {},
   "source": [
    "12. \n",
    "- Create a 2D array and print its shape as well as ndim. (Any shape is fine)\n",
    "\n",
    "- Create a 3D array and print its shape as well as ndim.\n",
    "\n",
    "- Create a 4D array and print its shape as well as ndim. *It's hard to visualize 4-Dimensions but numpy can do it with ease!*"
   ]
  },
  {
   "cell_type": "code",
   "execution_count": 54,
   "metadata": {
    "tags": []
   },
   "outputs": [
    {
     "output_type": "stream",
     "name": "stdout",
     "text": "(2, 1, 406)\n3\n"
    },
    {
     "output_type": "execute_result",
     "data": {
      "text/plain": "array([[['Chevrolet Chevelle Malibu', 'Buick Skylark 320',\n         'Plymouth Satellite', 'AMC Rebel SST', 'Ford Torino',\n         'Ford Galaxie 500', 'Chevrolet Impala', 'Plymouth Fury iii',\n         'Pontiac Catalina', 'AMC Ambassador DPL',\n         'Citroen DS-21 Pallas', 'Chevrolet Chevelle Concours (sw)',\n         'Ford Torino (sw)', 'Plymouth Satellite (sw)',\n         'AMC Rebel SST (sw)', 'Dodge Challenger SE',\n         \"Plymouth 'Cuda 340\", 'Ford Mustang Boss 302',\n         'Chevrolet Monte Carlo', 'Buick Estate Wagon (sw)',\n         'Toyota Corolla Mark ii', 'Plymouth Duster', 'AMC Hornet',\n         'Ford Maverick', 'Datsun PL510',\n         'Volkswagen 1131 Deluxe Sedan', 'Peugeot 504', 'Audi 100 LS',\n         'Saab 99e', 'BMW 2002', 'AMC Gremlin', 'Ford F250',\n         'Chevy C20', 'Dodge D200', 'Hi 1200D', 'Datsun PL510',\n         'Chevrolet Vega 2300', 'Toyota Corolla', 'Ford Pinto',\n         'Volkswagen Super Beetle 117', 'AMC Gremlin',\n         'Plymouth Satellite Custom', 'Chevrolet Chevelle Malibu',\n         'Ford Torino 500', 'AMC Matador', 'Chevrolet Impala',\n         'Pontiac Catalina Brougham', 'Ford Galaxie 500',\n         'Plymouth Fury iii', 'Dodge Monaco (sw)',\n         'Ford Country Squire (sw)', 'Pontiac Safari (sw)',\n         'AMC Hornet Sportabout (sw)', 'Chevrolet Vega (sw)',\n         'Pontiac Firebird', 'Ford Mustang', 'Mercury Capri 2000',\n         'Opel 1900', 'Peugeot 304', 'Fiat 124B', 'Toyota Corolla 1200',\n         'Datsun 1200', 'Volkswagen Model 111', 'Plymouth Cricket',\n         'Toyota Corolla Hardtop', 'Dodge Colt Hardtop',\n         'Volkswagen Type 3', 'Chevrolet Vega', 'Ford Pinto Runabout',\n         'Chevrolet Impala', 'Pontiac Catalina', 'Plymouth Fury III',\n         'Ford Galaxie 500', 'AMC Ambassador SST', 'Mercury Marquis',\n         'Buick LeSabre Custom', 'Oldsmobile Delta 88 Royale',\n         'Chrysler Newport Royal', 'Mazda RX2 Coupe',\n         'AMC Matador (sw)', 'Chevrolet Chevelle Concours (sw)',\n         'Ford Gran Torino (sw)', 'Plymouth Satellite Custom (sw)',\n         'Volvo 145e (sw)', 'Volkswagen 411 (sw)', 'Peugeot 504 (sw)',\n         'Renault 12 (sw)', 'Ford Pinto (sw)', 'Datsun 510 (sw)',\n         'Toyota Corolla Mark II (sw)', 'Dodge Colt (sw)',\n         'Toyota Corolla 1600 (sw)', 'Buick Century 350', 'AMC Matador',\n         'Chevrolet Malibu', 'Ford Gran Torino', 'Dodge Coronet Custom',\n         'Mercury Marquis Brougham', 'Chevrolet Caprice Classic',\n         'Ford LTD', 'Plymouth Fury Gran Sedan',\n         'Chrysler New Yorker Brougham', 'Buick Electra 225 Custom',\n         'AMC Ambassador Brougham', 'Plymouth Valiant',\n         'Chevrolet Nova Custom', 'AMC Hornet', 'Ford Maverick',\n         'Plymouth Duster', 'Volkswagen Super Beetle',\n         'Chevrolet Impala', 'Ford Country', 'Plymouth Custom Suburb',\n         'Oldsmobile Vista Cruiser', 'AMC Gremlin', 'Toyota Camry',\n         'Chevrolet Vega', 'Datsun 610', 'Mazda RX3', 'Ford Pinto',\n         'Mercury Capri v6', 'Fiat 124 Sport Coupe',\n         'Chevrolet Monte Carlo S', 'Pontiac Grand Prix', 'Fiat 128',\n         'Opel Manta', 'Audi 100LS', 'Volvo 144ea', 'Dodge Dart Custom',\n         'Saab 99le', 'Toyota Mark II', 'Oldsmobile Omega',\n         'Plymouth Duster', 'Ford Maverick', 'AMC Hornet',\n         'Chevrolet Nova', 'Datsun B210', 'Ford Pinto',\n         'Toyota Corolla 1200', 'Chevrolet Vega',\n         'Chevrolet Chevelle Malibu Classic', 'AMC Matador',\n         'Plymouth Satellite Sebring', 'Ford Gran Torino',\n         'Buick Century Luxus (sw)', 'Dodge Coronet Custom (sw)',\n         'Ford Gran Torino (sw)', 'AMC Matador (sw)', 'Audi Fox',\n         'Volkswagen Dasher', 'Opel Manta', 'Toyota Corolla',\n         'Datsun 710', 'Dodge Colt', 'Fiat 128', 'Fiat 124 TC',\n         'Honda Civic', 'Subaru', 'Fiat x1.9',\n         'Plymouth Valiant Custom', 'Chevrolet Nova', 'Mercury Monarch',\n         'Ford Maverick', 'Pontiac Catalina', 'Chevrolet Bel Air',\n         'Plymouth Grand Fury', 'Ford LTD', 'Buick Century',\n         'Chevrolete Chevelle Malibu', 'AMC Matador', 'Plymouth Fury',\n         'Buick Skyhawk', 'Chevrolet Monza 2+2', 'Ford Mustang II',\n         'Toyota Corolla', 'Ford Pinto', 'AMC Gremlin', 'Pontiac Astro',\n         'Toyota Corolla', 'Volkswagen Dasher', 'Datsun 710',\n         'Ford Pinto', 'Volkswagen Rabbit', 'AMC Pacer', 'Audi 100LS',\n         'Peugeot 504', 'Volvo 244DL', 'Saab 99LE', 'Honda Civic CVCC',\n         'Fiat 131', 'Opel 1900', 'Capri ii', 'Dodge Colt',\n         'Renault 12tl', 'Chevrolet Chevelle Malibu Classic',\n         'Dodge Coronet Brougham', 'AMC Matador', 'Ford Gran Torino',\n         'Plymouth Valiant', 'Chevrolet Nova', 'Ford Maverick',\n         'AMC Hornet', 'Chevrolet Chevette', 'Chevrolet Woody',\n         'Volkswagen Rabbit', 'Honda Civic', 'Dodge Aspen SE',\n         'Ford Grenada ghia', 'Pontiac Ventura SJ', 'AMC Pacer d/l',\n         'Volkswagen Rabbit', 'Datsun B-210', 'Toyota Corolla',\n         'Ford Pinto', 'Volvo 245', 'Plymouth Volare Premier v8',\n         'Peugeot 504', 'Toyota Mark II', 'Mercedes-Benz 280s',\n         'Cadillac Seville', 'Chevrolet C10', 'Ford F108', 'Dodge D100',\n         'Honda Accord CVCC', 'Buick Opel Isuzu Deluxe',\n         'Renault 5 GTL', 'Plymouth Arrow GS', 'Datsun F-10 Hatchback',\n         'Chevrolet Caprice Classic', 'Oldsmobile Cutlass Supreme',\n         'Dodge Monaco Brougham', 'Mercury Cougar Brougham',\n         'Chevrolet Concours', 'Buick Skylark',\n         'Plymouth Volare Custom', 'Ford Grenada',\n         'Pontiac Grand Prix LJ', 'Chevrolet Monte Carlo Landau',\n         'Chrysler Cordoba', 'Ford Thunderbird',\n         'Volkswagen Rabbit Custom', 'Pontiac Sunbird Coupe',\n         'Toyota Corolla Liftback', 'Ford Mustang II 2+2',\n         'Chevrolet Chevette', 'Dodge Colt m/m', 'Subaru DL',\n         'Volkswagen Dasher', 'Datsun 810', 'BMW 320i', 'Mazda RX-4',\n         'Volkswagen Rabbit Custom Diesel', 'Ford Fiesta',\n         'Mazda GLC Deluxe', 'Datsun B210 GX', 'Honda Civic CVCC',\n         'Oldsmobile Cutlass Salon Brougham', 'Dodge Diplomat',\n         'Mercury Monarch ghia', 'Pontiac Phoenix LJ',\n         'Chevrolet Malibu', 'Ford Fairmont (auto)',\n         'Ford Fairmont (man)', 'Plymouth Volare', 'AMC Concord',\n         'Buick Century Special', 'Mercury Zephyr', 'Dodge Aspen',\n         'AMC Concord d/l', 'Chevrolet Monte Carlo Landau',\n         'Buick Regal Sport Coupe (turbo)', 'Ford Futura',\n         'Dodge Magnum XE', 'Chevrolet Chevette', 'Toyota Corolla',\n         'Datsun 510', 'Dodge Omni', 'Toyota Celica GT Liftback',\n         'Plymouth Sapporo', 'Oldsmobile Starfire SX', 'Datsun 200-SX',\n         'Audi 5000', 'Volvo 264gl', 'Saab 99gle', 'Peugeot 604sl',\n         'Volkswagen Scirocco', 'Honda Accord LX', 'Pontiac Lemans V6',\n         'Mercury Zephyr 6', 'Ford Fairmont 4', 'AMC Concord DL 6',\n         'Dodge Aspen 6', 'Chevrolet Caprice Classic',\n         'Ford LTD Landau', 'Mercury Grand Marquis', 'Dodge St. Regis',\n         'Buick Estate Wagon (sw)', 'Ford Country Squire (sw)',\n         'Chevrolet Malibu Classic (sw)',\n         'Chrysler Lebaron Town @ Country (sw)',\n         'Volkswagen Rabbit Custom', 'Mazda GLC Deluxe',\n         'Dodge Colt Hatchback Custom', 'AMC Spirit DL',\n         'Mercedes Benz 300d', 'Cadillac Eldorado', 'Peugeot 504',\n         'Oldsmobile Cutlass Salon Brougham', 'Plymouth Horizon',\n         'Plymouth Horizon TC3', 'Datsun 210', 'Fiat Strada Custom',\n         'Buick Skylark Limited', 'Chevrolet Citation',\n         'Oldsmobile Omega Brougham', 'Pontiac Phoenix',\n         'Volkswagen Rabbit', 'Toyota Corolla Tercel',\n         'Chevrolet Chevette', 'Datsun 310', 'Chevrolet Citation',\n         'Ford Fairmont', 'AMC Concord', 'Dodge Aspen', 'Audi 4000',\n         'Toyota Corolla Liftback', 'Mazda 626', 'Datsun 510 Hatchback',\n         'Toyota Corolla', 'Mazda GLC', 'Dodge Colt', 'Datsun 210',\n         'Volkswagen Rabbit C (Diesel)', 'Volkswagen Dasher (diesel)',\n         'Audi 5000s (diesel)', 'Mercedes-Benz 240d',\n         'Honda Civic 1500 gl', 'Renault Lecar Deluxe', 'Subaru DL',\n         'Volkswagen Rabbit', 'Datsun 280-ZX', 'Mazda RX-7 GS',\n         'Triumph TR7 Coupe', 'Ford Mustang Cobra', 'Honda Accord',\n         'Plymouth Reliant', 'Buick Skylark', 'Dodge Aries Wagon (sw)',\n         'Chevrolet Citation', 'Plymouth Reliant', 'Toyota Starlet',\n         'Plymouth Champ', 'Honda Civic 1300', 'Subaru',\n         'Datsun 210 MPG', 'Toyota Tercel', 'Mazda GLC 4',\n         'Plymouth Horizon 4', 'Ford Escort 4W', 'Ford Escort 2H',\n         'Volkswagen Jetta', 'Renault 18i', 'Honda Prelude',\n         'Toyota Corolla', 'Datsun 200SX', 'Mazda 626',\n         'Peugeot 505s Turbo Diesel', 'Saab 900s', 'Volvo Diesel',\n         'Toyota Cressida', 'Datsun 810 Maxima', 'Buick Century',\n         'Oldsmobile Cutlass LS', 'Ford Grenada gl',\n         'Chrysler Lebaron Salon', 'Chevrolet Cavalier',\n         'Chevrolet Cavalier Wagon', 'Chevrolet Cavalier 2-door',\n         'Pontiac J2000 SE Hatchback', 'Dodge Aries SE',\n         'Pontiac Phoenix', 'Ford Fairmont Futura', 'AMC Concord DL',\n         'Volkswagen Rabbit l', 'Mazda GLC Custom l',\n         'Mazda GLC Custom', 'Plymouth Horizon Miser', 'Mercury Lynx l',\n         'Nissan Stanza XE', 'Honda Accord', 'Toyota Corolla',\n         'Honda Civic', 'Honda Civic (auto)', 'Datsun 310 GX',\n         'Buick Century Limited', 'Oldsmobile Cutlass Ciera (diesel)',\n         'Chrysler Lebaron Medallion', 'Ford Grenada l',\n         'Toyota Celica GT', 'Dodge Charger 2.2', 'Chevrolet Camaro',\n         'Ford Mustang GL', 'Volkswagen Pickup', 'Dodge Rampage',\n         'Ford Ranger', 'Chevy S-10']],\n\n       [[130.0, 165.0, 150.0, 150.0, 140.0, 198.0, 220.0, 215.0, 225.0,\n         190.0, 115.0, 165.0, 153.0, 175.0, 175.0, 170.0, 160.0, 140.0,\n         150.0, 225.0, 95.0, 95.0, 97.0, 85.0, 88.0, 46.0, 87.0, 90.0,\n         95.0, 113.0, 90.0, 215.0, 200.0, 210.0, 193.0, 88.0, 90.0,\n         95.0, 0.0, 48.0, 100.0, 105.0, 100.0, 88.0, 100.0, 165.0,\n         175.0, 153.0, 150.0, 180.0, 170.0, 175.0, 110.0, 72.0, 100.0,\n         88.0, 86.0, 90.0, 70.0, 76.0, 65.0, 69.0, 60.0, 70.0, 95.0,\n         80.0, 54.0, 90.0, 86.0, 165.0, 175.0, 150.0, 153.0, 150.0,\n         208.0, 155.0, 160.0, 190.0, 97.0, 150.0, 130.0, 140.0, 150.0,\n         112.0, 76.0, 87.0, 69.0, 86.0, 92.0, 97.0, 80.0, 88.0, 175.0,\n         150.0, 145.0, 137.0, 150.0, 198.0, 150.0, 158.0, 150.0, 215.0,\n         225.0, 175.0, 105.0, 100.0, 100.0, 88.0, 95.0, 46.0, 150.0,\n         167.0, 170.0, 180.0, 100.0, 88.0, 72.0, 94.0, 90.0, 85.0,\n         107.0, 90.0, 145.0, 230.0, 49.0, 75.0, 91.0, 112.0, 150.0,\n         110.0, 122.0, 180.0, 95.0, 0.0, 100.0, 100.0, 67.0, 80.0, 65.0,\n         75.0, 100.0, 110.0, 105.0, 140.0, 150.0, 150.0, 140.0, 150.0,\n         83.0, 67.0, 78.0, 52.0, 61.0, 75.0, 75.0, 75.0, 97.0, 93.0,\n         67.0, 95.0, 105.0, 72.0, 72.0, 170.0, 145.0, 150.0, 148.0,\n         110.0, 105.0, 110.0, 95.0, 110.0, 110.0, 129.0, 75.0, 83.0,\n         100.0, 78.0, 96.0, 71.0, 97.0, 97.0, 70.0, 90.0, 95.0, 88.0,\n         98.0, 115.0, 53.0, 86.0, 81.0, 92.0, 79.0, 83.0, 140.0, 150.0,\n         120.0, 152.0, 100.0, 105.0, 81.0, 90.0, 52.0, 60.0, 70.0, 53.0,\n         100.0, 78.0, 110.0, 95.0, 71.0, 70.0, 75.0, 72.0, 102.0, 150.0,\n         88.0, 108.0, 120.0, 180.0, 145.0, 130.0, 150.0, 68.0, 80.0,\n         58.0, 96.0, 70.0, 145.0, 110.0, 145.0, 130.0, 110.0, 105.0,\n         100.0, 98.0, 180.0, 170.0, 190.0, 149.0, 78.0, 88.0, 75.0,\n         89.0, 63.0, 83.0, 67.0, 78.0, 97.0, 110.0, 110.0, 48.0, 66.0,\n         52.0, 70.0, 60.0, 110.0, 140.0, 139.0, 105.0, 95.0, 85.0, 88.0,\n         100.0, 90.0, 105.0, 85.0, 110.0, 120.0, 145.0, 165.0, 139.0,\n         140.0, 68.0, 95.0, 97.0, 75.0, 95.0, 105.0, 85.0, 97.0, 103.0,\n         125.0, 115.0, 133.0, 71.0, 68.0, 115.0, 85.0, 88.0, 90.0,\n         110.0, 130.0, 129.0, 138.0, 135.0, 155.0, 142.0, 125.0, 150.0,\n         71.0, 65.0, 80.0, 80.0, 77.0, 125.0, 71.0, 90.0, 70.0, 70.0,\n         65.0, 69.0, 90.0, 115.0, 115.0, 90.0, 76.0, 60.0, 70.0, 65.0,\n         90.0, 88.0, 90.0, 90.0, 78.0, 90.0, 75.0, 92.0, 75.0, 65.0,\n         105.0, 65.0, 48.0, 48.0, 67.0, 67.0, 67.0, 0.0, 67.0, 62.0,\n         132.0, 100.0, 88.0, 0.0, 72.0, 84.0, 84.0, 92.0, 110.0, 84.0,\n         58.0, 64.0, 60.0, 67.0, 65.0, 62.0, 68.0, 63.0, 65.0, 65.0,\n         74.0, 0.0, 75.0, 75.0, 100.0, 74.0, 80.0, 110.0, 76.0, 116.0,\n         120.0, 110.0, 105.0, 88.0, 85.0, 88.0, 88.0, 88.0, 85.0, 84.0,\n         90.0, 92.0, 0.0, 74.0, 68.0, 68.0, 63.0, 70.0, 88.0, 75.0,\n         70.0, 67.0, 67.0, 67.0, 110.0, 85.0, 92.0, 112.0, 96.0, 84.0,\n         90.0, 86.0, 52.0, 84.0, 79.0, 82.0]]], dtype=object)"
     },
     "metadata": {},
     "execution_count": 54
    }
   ],
   "source": [
    "np_2d = np.array([[car], [horsepower]])\n",
    "print(np_2d.shape)\n",
    "print(np_2d.ndim)\n",
    "np_2d\n"
   ]
  },
  {
   "cell_type": "code",
   "execution_count": 52,
   "metadata": {
    "tags": []
   },
   "outputs": [
    {
     "output_type": "stream",
     "name": "stdout",
     "text": "(3, 1, 406)\n3\n"
    },
    {
     "output_type": "execute_result",
     "data": {
      "text/plain": "array([[['Chevrolet Chevelle Malibu', 'Buick Skylark 320',\n         'Plymouth Satellite', ..., 'Dodge Rampage', 'Ford Ranger',\n         'Chevy S-10']],\n\n       [[130.0, 165.0, 150.0, ..., 84.0, 79.0, 82.0]],\n\n       [['US', 'US', 'US', ..., 'US', 'US', 'US']]], dtype=object)"
     },
     "metadata": {},
     "execution_count": 52
    }
   ],
   "source": [
    "np_3d = np.array([[car],[horsepower], [origin]])\n",
    "print(np_3d.shape)\n",
    "print(np_3d.ndim)\n",
    "np_3d"
   ]
  },
  {
   "cell_type": "code",
   "execution_count": 53,
   "metadata": {
    "tags": []
   },
   "outputs": [
    {
     "output_type": "stream",
     "name": "stdout",
     "text": "(4, 1, 406)\n3\n"
    },
    {
     "output_type": "execute_result",
     "data": {
      "text/plain": "array([[['Chevrolet Chevelle Malibu', 'Buick Skylark 320',\n         'Plymouth Satellite', ..., 'Dodge Rampage', 'Ford Ranger',\n         'Chevy S-10']],\n\n       [[130.0, 165.0, 150.0, ..., 84.0, 79.0, 82.0]],\n\n       [['US', 'US', 'US', ..., 'US', 'US', 'US']],\n\n       [[18.0, 15.0, 18.0, ..., 32.0, 28.0, 31.0]]], dtype=object)"
     },
     "metadata": {},
     "execution_count": 53
    }
   ],
   "source": [
    "np_4d = np.array([[car ], [horsepower] , [origin] , [mpg]])\n",
    "print(np_4d.shape)\n",
    "print(np_4d.ndim)\n",
    "np_4d"
   ]
  },
  {
   "cell_type": "markdown",
   "metadata": {},
   "source": [
    "13.Use boolean indexing to create an array of `True/False` using `origin` and the value 'US'."
   ]
  },
  {
   "cell_type": "code",
   "execution_count": 56,
   "metadata": {},
   "outputs": [
    {
     "output_type": "execute_result",
     "data": {
      "text/plain": "array([ True,  True,  True,  True,  True,  True,  True,  True,  True,\n        True, False,  True,  True,  True,  True,  True,  True,  True,\n        True,  True, False,  True,  True,  True, False, False, False,\n       False, False, False,  True,  True,  True,  True,  True, False,\n        True, False,  True, False,  True,  True,  True,  True,  True,\n        True,  True,  True,  True,  True,  True,  True,  True,  True,\n        True,  True,  True, False, False, False, False, False, False,\n        True, False,  True, False,  True,  True,  True,  True,  True,\n        True,  True,  True,  True,  True,  True, False,  True,  True,\n        True,  True, False, False, False, False,  True, False, False,\n        True, False,  True,  True,  True,  True,  True,  True,  True,\n        True,  True,  True,  True,  True,  True,  True,  True,  True,\n        True, False,  True,  True,  True,  True,  True, False,  True,\n       False, False,  True,  True, False,  True,  True, False, False,\n       False, False,  True, False, False,  True,  True,  True,  True,\n        True, False,  True, False,  True,  True,  True,  True,  True,\n        True,  True,  True,  True, False, False, False, False, False,\n        True, False, False, False, False, False,  True,  True,  True,\n        True,  True,  True,  True,  True,  True,  True,  True,  True,\n        True,  True,  True, False,  True,  True,  True, False, False,\n       False,  True, False,  True, False, False, False, False, False,\n       False, False,  True,  True, False,  True,  True,  True,  True,\n        True,  True,  True,  True,  True,  True, False, False,  True,\n        True,  True,  True, False, False, False,  True, False,  True,\n       False, False, False,  True,  True,  True,  True, False,  True,\n       False,  True, False,  True,  True,  True,  True,  True,  True,\n        True,  True,  True,  True,  True,  True, False,  True, False,\n        True,  True,  True, False, False, False, False, False, False,\n        True, False, False, False,  True,  True,  True,  True,  True,\n        True,  True,  True,  True,  True,  True,  True,  True,  True,\n        True,  True,  True,  True, False, False,  True, False,  True,\n        True, False, False, False, False, False, False, False,  True,\n        True,  True,  True,  True,  True,  True,  True,  True,  True,\n        True,  True,  True, False, False,  True,  True, False,  True,\n       False,  True,  True,  True, False, False,  True,  True,  True,\n        True, False, False,  True, False,  True,  True,  True,  True,\n       False, False, False, False, False, False,  True, False, False,\n       False, False, False, False, False, False, False, False, False,\n       False,  True, False,  True,  True,  True,  True,  True, False,\n        True, False, False, False, False, False,  True,  True,  True,\n       False, False, False, False, False, False, False, False, False,\n       False, False,  True,  True,  True,  True,  True,  True,  True,\n        True,  True,  True,  True,  True, False, False, False,  True,\n        True, False, False, False, False, False, False,  True,  True,\n        True,  True, False,  True,  True,  True, False,  True,  True,\n        True])"
     },
     "metadata": {},
     "execution_count": 56
    }
   ],
   "source": [
    "origin == 'US'"
   ]
  },
  {
   "cell_type": "markdown",
   "metadata": {},
   "source": [
    "14. Apply your index (from above) to the `car` array. You should now only see cars that are of US origin. "
   ]
  },
  {
   "cell_type": "code",
   "execution_count": 57,
   "metadata": {},
   "outputs": [
    {
     "output_type": "execute_result",
     "data": {
      "text/plain": "array(['Chevrolet Chevelle Malibu', 'Buick Skylark 320',\n       'Plymouth Satellite', 'AMC Rebel SST', 'Ford Torino',\n       'Ford Galaxie 500', 'Chevrolet Impala', 'Plymouth Fury iii',\n       'Pontiac Catalina', 'AMC Ambassador DPL',\n       'Chevrolet Chevelle Concours (sw)', 'Ford Torino (sw)',\n       'Plymouth Satellite (sw)', 'AMC Rebel SST (sw)',\n       'Dodge Challenger SE', \"Plymouth 'Cuda 340\",\n       'Ford Mustang Boss 302', 'Chevrolet Monte Carlo',\n       'Buick Estate Wagon (sw)', 'Plymouth Duster', 'AMC Hornet',\n       'Ford Maverick', 'AMC Gremlin', 'Ford F250', 'Chevy C20',\n       'Dodge D200', 'Hi 1200D', 'Chevrolet Vega 2300', 'Ford Pinto',\n       'AMC Gremlin', 'Plymouth Satellite Custom',\n       'Chevrolet Chevelle Malibu', 'Ford Torino 500', 'AMC Matador',\n       'Chevrolet Impala', 'Pontiac Catalina Brougham',\n       'Ford Galaxie 500', 'Plymouth Fury iii', 'Dodge Monaco (sw)',\n       'Ford Country Squire (sw)', 'Pontiac Safari (sw)',\n       'AMC Hornet Sportabout (sw)', 'Chevrolet Vega (sw)',\n       'Pontiac Firebird', 'Ford Mustang', 'Mercury Capri 2000',\n       'Plymouth Cricket', 'Dodge Colt Hardtop', 'Chevrolet Vega',\n       'Ford Pinto Runabout', 'Chevrolet Impala', 'Pontiac Catalina',\n       'Plymouth Fury III', 'Ford Galaxie 500', 'AMC Ambassador SST',\n       'Mercury Marquis', 'Buick LeSabre Custom',\n       'Oldsmobile Delta 88 Royale', 'Chrysler Newport Royal',\n       'AMC Matador (sw)', 'Chevrolet Chevelle Concours (sw)',\n       'Ford Gran Torino (sw)', 'Plymouth Satellite Custom (sw)',\n       'Ford Pinto (sw)', 'Dodge Colt (sw)', 'Buick Century 350',\n       'AMC Matador', 'Chevrolet Malibu', 'Ford Gran Torino',\n       'Dodge Coronet Custom', 'Mercury Marquis Brougham',\n       'Chevrolet Caprice Classic', 'Ford LTD',\n       'Plymouth Fury Gran Sedan', 'Chrysler New Yorker Brougham',\n       'Buick Electra 225 Custom', 'AMC Ambassador Brougham',\n       'Plymouth Valiant', 'Chevrolet Nova Custom', 'AMC Hornet',\n       'Ford Maverick', 'Plymouth Duster', 'Chevrolet Impala',\n       'Ford Country', 'Plymouth Custom Suburb',\n       'Oldsmobile Vista Cruiser', 'AMC Gremlin', 'Chevrolet Vega',\n       'Ford Pinto', 'Mercury Capri v6', 'Chevrolet Monte Carlo S',\n       'Pontiac Grand Prix', 'Dodge Dart Custom', 'Oldsmobile Omega',\n       'Plymouth Duster', 'Ford Maverick', 'AMC Hornet', 'Chevrolet Nova',\n       'Ford Pinto', 'Chevrolet Vega',\n       'Chevrolet Chevelle Malibu Classic', 'AMC Matador',\n       'Plymouth Satellite Sebring', 'Ford Gran Torino',\n       'Buick Century Luxus (sw)', 'Dodge Coronet Custom (sw)',\n       'Ford Gran Torino (sw)', 'AMC Matador (sw)', 'Dodge Colt',\n       'Plymouth Valiant Custom', 'Chevrolet Nova', 'Mercury Monarch',\n       'Ford Maverick', 'Pontiac Catalina', 'Chevrolet Bel Air',\n       'Plymouth Grand Fury', 'Ford LTD', 'Buick Century',\n       'Chevrolete Chevelle Malibu', 'AMC Matador', 'Plymouth Fury',\n       'Buick Skyhawk', 'Chevrolet Monza 2+2', 'Ford Mustang II',\n       'Ford Pinto', 'AMC Gremlin', 'Pontiac Astro', 'Ford Pinto',\n       'AMC Pacer', 'Capri ii', 'Dodge Colt',\n       'Chevrolet Chevelle Malibu Classic', 'Dodge Coronet Brougham',\n       'AMC Matador', 'Ford Gran Torino', 'Plymouth Valiant',\n       'Chevrolet Nova', 'Ford Maverick', 'AMC Hornet',\n       'Chevrolet Chevette', 'Chevrolet Woody', 'Dodge Aspen SE',\n       'Ford Grenada ghia', 'Pontiac Ventura SJ', 'AMC Pacer d/l',\n       'Ford Pinto', 'Plymouth Volare Premier v8', 'Cadillac Seville',\n       'Chevrolet C10', 'Ford F108', 'Dodge D100',\n       'Buick Opel Isuzu Deluxe', 'Plymouth Arrow GS',\n       'Chevrolet Caprice Classic', 'Oldsmobile Cutlass Supreme',\n       'Dodge Monaco Brougham', 'Mercury Cougar Brougham',\n       'Chevrolet Concours', 'Buick Skylark', 'Plymouth Volare Custom',\n       'Ford Grenada', 'Pontiac Grand Prix LJ',\n       'Chevrolet Monte Carlo Landau', 'Chrysler Cordoba',\n       'Ford Thunderbird', 'Pontiac Sunbird Coupe', 'Ford Mustang II 2+2',\n       'Chevrolet Chevette', 'Dodge Colt m/m', 'Ford Fiesta',\n       'Oldsmobile Cutlass Salon Brougham', 'Dodge Diplomat',\n       'Mercury Monarch ghia', 'Pontiac Phoenix LJ', 'Chevrolet Malibu',\n       'Ford Fairmont (auto)', 'Ford Fairmont (man)', 'Plymouth Volare',\n       'AMC Concord', 'Buick Century Special', 'Mercury Zephyr',\n       'Dodge Aspen', 'AMC Concord d/l', 'Chevrolet Monte Carlo Landau',\n       'Buick Regal Sport Coupe (turbo)', 'Ford Futura',\n       'Dodge Magnum XE', 'Chevrolet Chevette', 'Dodge Omni',\n       'Plymouth Sapporo', 'Oldsmobile Starfire SX', 'Pontiac Lemans V6',\n       'Mercury Zephyr 6', 'Ford Fairmont 4', 'AMC Concord DL 6',\n       'Dodge Aspen 6', 'Chevrolet Caprice Classic', 'Ford LTD Landau',\n       'Mercury Grand Marquis', 'Dodge St. Regis',\n       'Buick Estate Wagon (sw)', 'Ford Country Squire (sw)',\n       'Chevrolet Malibu Classic (sw)',\n       'Chrysler Lebaron Town @ Country (sw)',\n       'Dodge Colt Hatchback Custom', 'AMC Spirit DL',\n       'Cadillac Eldorado', 'Oldsmobile Cutlass Salon Brougham',\n       'Plymouth Horizon', 'Plymouth Horizon TC3',\n       'Buick Skylark Limited', 'Chevrolet Citation',\n       'Oldsmobile Omega Brougham', 'Pontiac Phoenix',\n       'Chevrolet Chevette', 'Chevrolet Citation', 'Ford Fairmont',\n       'AMC Concord', 'Dodge Aspen', 'Dodge Colt', 'Ford Mustang Cobra',\n       'Plymouth Reliant', 'Buick Skylark', 'Dodge Aries Wagon (sw)',\n       'Chevrolet Citation', 'Plymouth Reliant', 'Plymouth Champ',\n       'Plymouth Horizon 4', 'Ford Escort 4W', 'Ford Escort 2H',\n       'Buick Century', 'Oldsmobile Cutlass LS', 'Ford Grenada gl',\n       'Chrysler Lebaron Salon', 'Chevrolet Cavalier',\n       'Chevrolet Cavalier Wagon', 'Chevrolet Cavalier 2-door',\n       'Pontiac J2000 SE Hatchback', 'Dodge Aries SE', 'Pontiac Phoenix',\n       'Ford Fairmont Futura', 'AMC Concord DL', 'Plymouth Horizon Miser',\n       'Mercury Lynx l', 'Buick Century Limited',\n       'Oldsmobile Cutlass Ciera (diesel)', 'Chrysler Lebaron Medallion',\n       'Ford Grenada l', 'Dodge Charger 2.2', 'Chevrolet Camaro',\n       'Ford Mustang GL', 'Dodge Rampage', 'Ford Ranger', 'Chevy S-10'],\n      dtype=object)"
     },
     "metadata": {},
     "execution_count": 57
    }
   ],
   "source": [
    "car[origin == 'US']"
   ]
  },
  {
   "cell_type": "markdown",
   "metadata": {},
   "source": [
    "**The remaining questions are OPTIONAL**: The readings did not address all of these so you may have to use some \"Google-Fu\". "
   ]
  },
  {
   "cell_type": "markdown",
   "metadata": {},
   "source": [
    "1.What is an identity matrix? \n",
    "Create an identiy matrix of size 5 using an np method. "
   ]
  },
  {
   "cell_type": "code",
   "execution_count": 59,
   "metadata": {},
   "outputs": [
    {
     "output_type": "execute_result",
     "data": {
      "text/plain": "array([[1., 0., 0., 0., 0.],\n       [0., 1., 0., 0., 0.],\n       [0., 0., 1., 0., 0.],\n       [0., 0., 0., 1., 0.],\n       [0., 0., 0., 0., 1.]])"
     },
     "metadata": {},
     "execution_count": 59
    }
   ],
   "source": [
    "#The identity array is a square array with ones on the main diagonal.\n",
    "np.identity(5)"
   ]
  },
  {
   "cell_type": "markdown",
   "metadata": {},
   "source": [
    "2. Transpose the following array. "
   ]
  },
  {
   "cell_type": "code",
   "execution_count": 61,
   "metadata": {},
   "outputs": [
    {
     "output_type": "execute_result",
     "data": {
      "text/plain": "array([[1, 4, 7],\n       [2, 5, 8],\n       [3, 6, 9]])"
     },
     "metadata": {},
     "execution_count": 61
    }
   ],
   "source": [
    "transpose_me = np.array([[1,2,3],\n",
    "                      [4,5,6],\n",
    "                      [7,8,9]])\n",
    "transpose_me.transpose()"
   ]
  },
  {
   "cell_type": "markdown",
   "metadata": {},
   "source": [
    "3. Why does this multiplication operation fail? "
   ]
  },
  {
   "cell_type": "code",
   "execution_count": 62,
   "metadata": {},
   "outputs": [
    {
     "output_type": "error",
     "ename": "ValueError",
     "evalue": "operands could not be broadcast together with shapes (3,3) (2,3) ",
     "traceback": [
      "\u001b[0;31m---------------------------------------------------------------------------\u001b[0m",
      "\u001b[0;31mValueError\u001b[0m                                Traceback (most recent call last)",
      "\u001b[0;32m<ipython-input-62-18999d978af8>\u001b[0m in \u001b[0;36m<module>\u001b[0;34m\u001b[0m\n\u001b[1;32m      5\u001b[0m                       [4,5,6]])\n\u001b[1;32m      6\u001b[0m \u001b[0;34m\u001b[0m\u001b[0m\n\u001b[0;32m----> 7\u001b[0;31m \u001b[0marr1\u001b[0m \u001b[0;34m*\u001b[0m \u001b[0marr2\u001b[0m\u001b[0;34m\u001b[0m\u001b[0;34m\u001b[0m\u001b[0m\n\u001b[0m",
      "\u001b[0;31mValueError\u001b[0m: operands could not be broadcast together with shapes (3,3) (2,3) "
     ]
    }
   ],
   "source": [
    "arr1 = np.array([[1,2,3],\n",
    "                      [4,5,6],\n",
    "                      [7,8,9]])\n",
    "arr2 = np.array([[1,2,3],\n",
    "                      [4,5,6]])\n",
    "\n",
    "arr1 * arr2"
   ]
  },
  {
   "cell_type": "code",
   "execution_count": null,
   "metadata": {},
   "outputs": [],
   "source": [
    "# You can't multiply arrays that don't have the same amount of dimensions"
   ]
  },
  {
   "cell_type": "markdown",
   "metadata": {},
   "source": [
    "Use numpy to answer the following questions. "
   ]
  },
  {
   "cell_type": "markdown",
   "metadata": {},
   "source": [
    "4. What is the average horsepower for `Europe` cars? (Hint: create boolean index of 'US' apply it to horsepower and perform the calculation.)"
   ]
  },
  {
   "cell_type": "code",
   "execution_count": 65,
   "metadata": {},
   "outputs": [
    {
     "output_type": "execute_result",
     "data": {
      "text/plain": "78.78082191780823"
     },
     "metadata": {},
     "execution_count": 65
    }
   ],
   "source": [
    "average_horsepower = horsepower[ origin == 'Europe']\n",
    "average_horsepower.mean()"
   ]
  },
  {
   "cell_type": "markdown",
   "metadata": {},
   "source": [
    "5. On average are Japanse cars more fuel efficient than US cars? "
   ]
  },
  {
   "cell_type": "code",
   "execution_count": 69,
   "metadata": {},
   "outputs": [
    {
     "output_type": "execute_result",
     "data": {
      "text/plain": "19.688188976377955"
     },
     "metadata": {},
     "execution_count": 69
    }
   ],
   "source": [
    "japan_cars = mpg[origin == 'Japan']\n",
    "japan_cars.mean() # Japan average mpg is 30.45\n",
    "\n",
    "usa_cars = mpg[origin == 'US']\n",
    "usa_cars.mean() #USA average mpg is 19.86 \n",
    "\n",
    "#cars from Japan has an higher average mpg then the US"
   ]
  },
  {
   "cell_type": "markdown",
   "metadata": {},
   "source": [
    "6. What is the correlation coefficient of `mpg` and `weight`?"
   ]
  },
  {
   "cell_type": "code",
   "execution_count": null,
   "metadata": {},
   "outputs": [],
   "source": [
    "# not sure researching this via Google. "
   ]
  },
  {
   "cell_type": "markdown",
   "metadata": {},
   "source": [
    "7. Why might you prefer an `np.array()` over a Python `list`? And when is a Python `list` preferred? "
   ]
  },
  {
   "cell_type": "code",
   "execution_count": null,
   "metadata": {},
   "outputs": [],
   "source": [
    "# If you want to store a large amount of data, then you should consider arrays because they can store data very compactly and efficiently."
   ]
  },
  {
   "cell_type": "code",
   "execution_count": null,
   "metadata": {},
   "outputs": [],
   "source": []
  }
 ],
 "metadata": {
  "kernelspec": {
   "display_name": "Python 3",
   "language": "python",
   "name": "python3"
  },
  "language_info": {
   "codemirror_mode": {
    "name": "ipython",
    "version": 3
   },
   "file_extension": ".py",
   "mimetype": "text/x-python",
   "name": "python",
   "nbconvert_exporter": "python",
   "pygments_lexer": "ipython3",
   "version": "3.8.5-final"
  }
 },
 "nbformat": 4,
 "nbformat_minor": 4
}